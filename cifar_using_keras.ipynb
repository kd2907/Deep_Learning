{
 "cells": [
  {
   "cell_type": "markdown",
   "metadata": {},
   "source": [
    "#### import libraries"
   ]
  },
  {
   "cell_type": "code",
   "execution_count": 1,
   "metadata": {},
   "outputs": [],
   "source": [
    "# import libraries\n",
    "from __future__ import print_function\n",
    "import os\n",
    "import numpy as np\n",
    "import _pickle as pickle\n",
    "from tensorflow import keras\n",
    "from sklearn.metrics import accuracy_score\n",
    "from tensorflow.keras.models import Sequential\n",
    "from sklearn.model_selection import train_test_split\n",
    "from tensorflow.keras.layers import Conv2D, MaxPooling2D\n",
    "from tensorflow.keras.preprocessing.image import ImageDataGenerator\n",
    "from tensorflow.keras.layers import Dense, Dropout, Activation, Flatten"
   ]
  },
  {
   "cell_type": "markdown",
   "metadata": {},
   "source": [
    "#### load dataset"
   ]
  },
  {
   "cell_type": "code",
   "execution_count": 2,
   "metadata": {},
   "outputs": [],
   "source": [
    "data_list = []\n",
    "label_list = []\n",
    "for i in range(1,2):\n",
    "    # select filepath\n",
    "    filepath  = \"C:\\\\Users\\Kuldeep Jaimini\\Desktop\\project_work\\cifar_code\\cifar-10-batches-py\\data_batch_\"+str(i)\n",
    "    # open filepath\n",
    "    file = open(filepath, \"rb\")\n",
    "    #load data\n",
    "    data_dict = pickle.load(file, encoding = \"latin1\")\n",
    "    data = data_dict[\"data\"]\n",
    "    label = data_dict[\"labels\"]\n",
    "    data_list.append(data)\n",
    "    label_list.append(label)\n",
    "# total data    \n",
    "data = np.concatenate(data_list)\n",
    "# correesponding labels\n",
    "label = np.concatenate(label_list)"
   ]
  },
  {
   "cell_type": "markdown",
   "metadata": {},
   "source": [
    "#### shuffle the dataset"
   ]
  },
  {
   "cell_type": "code",
   "execution_count": 3,
   "metadata": {},
   "outputs": [],
   "source": [
    "indices = np.arange(data.shape[0], dtype=np.int32)\n",
    "np.random.shuffle(indices)\n",
    "data = data[indices]\n",
    "label = label[indices]"
   ]
  },
  {
   "cell_type": "markdown",
   "metadata": {},
   "source": [
    "#### shape of the dataset"
   ]
  },
  {
   "cell_type": "code",
   "execution_count": 4,
   "metadata": {},
   "outputs": [
    {
     "name": "stdout",
     "output_type": "stream",
     "text": [
      "shape of the data: (10000, 3072)\n",
      "shape of the label: (10000,)\n"
     ]
    }
   ],
   "source": [
    "print(\"shape of the data:\",data.shape)\n",
    "print(\"shape of the label:\",label.shape)"
   ]
  },
  {
   "cell_type": "markdown",
   "metadata": {},
   "source": [
    "#### normalize the dataset"
   ]
  },
  {
   "cell_type": "code",
   "execution_count": 5,
   "metadata": {},
   "outputs": [],
   "source": [
    "data = data/255.0"
   ]
  },
  {
   "cell_type": "markdown",
   "metadata": {},
   "source": [
    "#### split the dataset into train and test set"
   ]
  },
  {
   "cell_type": "code",
   "execution_count": 6,
   "metadata": {},
   "outputs": [
    {
     "name": "stdout",
     "output_type": "stream",
     "text": [
      "shape of training data (8000, 3072)\n",
      "shape of test data (2000, 3072)\n"
     ]
    }
   ],
   "source": [
    "x_train, x_test, y_train, y_test = train_test_split(data, label, test_size=0.20, random_state=42)\n",
    "print(\"shape of training data\",x_train.shape)\n",
    "print(\"shape of test data\", x_test.shape)"
   ]
  },
  {
   "cell_type": "code",
   "execution_count": 7,
   "metadata": {},
   "outputs": [],
   "source": [
    "batch_size = 32\n",
    "num_classes = 10\n",
    "epochs = 50\n",
    "num_predictions = 20\n",
    "save_dir = os.path.join(os.getcwd(), 'saved_models')\n",
    "model_name = 'keras_cifar10_trained_model.h5'"
   ]
  },
  {
   "cell_type": "code",
   "execution_count": 8,
   "metadata": {},
   "outputs": [
    {
     "name": "stdout",
     "output_type": "stream",
     "text": [
      "(8000, 10)\n",
      "(2000, 10)\n"
     ]
    }
   ],
   "source": [
    "# Convert class vectors to binary class matrices.\n",
    "y_train = keras.utils.to_categorical(y_train, num_classes)\n",
    "y_test = keras.utils.to_categorical(y_test, num_classes)\n",
    "print(y_train.shape)\n",
    "print(y_test.shape)"
   ]
  },
  {
   "cell_type": "markdown",
   "metadata": {},
   "source": [
    "#### create model"
   ]
  },
  {
   "cell_type": "code",
   "execution_count": 9,
   "metadata": {},
   "outputs": [
    {
     "name": "stdout",
     "output_type": "stream",
     "text": [
      "WARNING:tensorflow:From C:\\Users\\Kuldeep Jaimini\\Anaconda3\\lib\\site-packages\\tensorflow\\python\\ops\\resource_variable_ops.py:435: colocate_with (from tensorflow.python.framework.ops) is deprecated and will be removed in a future version.\n",
      "Instructions for updating:\n",
      "Colocations handled automatically by placer.\n",
      "WARNING:tensorflow:From C:\\Users\\Kuldeep Jaimini\\Anaconda3\\lib\\site-packages\\tensorflow\\python\\keras\\layers\\core.py:143: calling dropout (from tensorflow.python.ops.nn_ops) with keep_prob is deprecated and will be removed in a future version.\n",
      "Instructions for updating:\n",
      "Please use `rate` instead of `keep_prob`. Rate should be set to `rate = 1 - keep_prob`.\n"
     ]
    }
   ],
   "source": [
    "model = Sequential()\n",
    "model.add(Conv2D(filters=32, kernel_size=(3, 3), padding='same',\n",
    "                 input_shape=(32,32,3)))\n",
    "model.add(Activation('relu'))\n",
    "model.add(Conv2D(32, (3, 3)))\n",
    "model.add(Activation('relu'))\n",
    "model.add(MaxPooling2D(pool_size=(2, 2)))\n",
    "model.add(Dropout(0.25))\n",
    "\n",
    "model.add(Conv2D(64, (3, 3), padding='same'))\n",
    "model.add(Activation('relu'))\n",
    "model.add(Conv2D(64, (3, 3)))\n",
    "model.add(Activation('relu'))\n",
    "model.add(MaxPooling2D(pool_size=(2, 2)))\n",
    "model.add(Dropout(0.25))\n",
    "\n",
    "model.add(Flatten())\n",
    "model.add(Dense(512))\n",
    "model.add(Activation('relu'))\n",
    "model.add(Dropout(0.5))\n",
    "model.add(Dense(num_classes))\n",
    "model.add(Activation('softmax'))"
   ]
  },
  {
   "cell_type": "code",
   "execution_count": 10,
   "metadata": {},
   "outputs": [],
   "source": [
    "# initiate RMS prop optimizer\n",
    "import tensorflow\n",
    "from tensorflow.keras import optimizers\n",
    "opt = tensorflow.keras.optimizers.RMSprop(lr=0.001, rho=0.9, epsilon=None, decay=0.0)\n",
    "# Let's train the model using RMS prop\n",
    "model.compile(loss='categorical_crossentropy',\n",
    "              optimizer=opt,\n",
    "              metrics=['accuracy'])"
   ]
  },
  {
   "cell_type": "code",
   "execution_count": 11,
   "metadata": {},
   "outputs": [
    {
     "name": "stdout",
     "output_type": "stream",
     "text": [
      "(8000, 32, 32, 3)\n"
     ]
    }
   ],
   "source": [
    "x_train = x_train.reshape(-1,32,32,3)\n",
    "x_test = x_test.reshape(-1,32,32,3)\n",
    "print(x_train.shape)"
   ]
  },
  {
   "cell_type": "code",
   "execution_count": 12,
   "metadata": {},
   "outputs": [
    {
     "name": "stdout",
     "output_type": "stream",
     "text": [
      "Train on 8000 samples, validate on 2000 samples\n",
      "WARNING:tensorflow:From C:\\Users\\Kuldeep Jaimini\\Anaconda3\\lib\\site-packages\\tensorflow\\python\\ops\\math_ops.py:3066: to_int32 (from tensorflow.python.ops.math_ops) is deprecated and will be removed in a future version.\n",
      "Instructions for updating:\n",
      "Use tf.cast instead.\n",
      "Epoch 1/50\n",
      "8000/8000 [==============================] - 26s 3ms/sample - loss: 2.0567 - acc: 0.2461 - val_loss: 1.8010 - val_acc: 0.3500\n",
      "Epoch 2/50\n",
      "8000/8000 [==============================] - 27s 3ms/sample - loss: 1.7483 - acc: 0.3704 - val_loss: 1.5944 - val_acc: 0.4105\n",
      "Epoch 3/50\n",
      "8000/8000 [==============================] - 27s 3ms/sample - loss: 1.5922 - acc: 0.4238 - val_loss: 1.4729 - val_acc: 0.4545\n",
      "Epoch 4/50\n",
      "8000/8000 [==============================] - 28s 3ms/sample - loss: 1.4934 - acc: 0.4656 - val_loss: 1.4340 - val_acc: 0.4750\n",
      "Epoch 5/50\n",
      "8000/8000 [==============================] - 27s 3ms/sample - loss: 1.4063 - acc: 0.4961 - val_loss: 1.3687 - val_acc: 0.4940\n",
      "Epoch 6/50\n",
      "8000/8000 [==============================] - 27s 3ms/sample - loss: 1.3268 - acc: 0.5288 - val_loss: 1.3375 - val_acc: 0.5170\n",
      "Epoch 7/50\n",
      "8000/8000 [==============================] - 28s 3ms/sample - loss: 1.2628 - acc: 0.5440 - val_loss: 1.3098 - val_acc: 0.5310\n",
      "Epoch 8/50\n",
      "8000/8000 [==============================] - 27s 3ms/sample - loss: 1.2099 - acc: 0.5785 - val_loss: 1.3415 - val_acc: 0.5270\n",
      "Epoch 9/50\n",
      "8000/8000 [==============================] - 28s 4ms/sample - loss: 1.1328 - acc: 0.6009 - val_loss: 1.3473 - val_acc: 0.5300\n",
      "Epoch 10/50\n",
      "8000/8000 [==============================] - 28s 4ms/sample - loss: 1.0818 - acc: 0.6159 - val_loss: 1.3016 - val_acc: 0.5550\n",
      "Epoch 11/50\n",
      "8000/8000 [==============================] - 29s 4ms/sample - loss: 1.0447 - acc: 0.6341 - val_loss: 1.3655 - val_acc: 0.5370\n",
      "Epoch 12/50\n",
      "8000/8000 [==============================] - 28s 3ms/sample - loss: 0.9980 - acc: 0.6467 - val_loss: 1.3244 - val_acc: 0.5455\n",
      "Epoch 13/50\n",
      "8000/8000 [==============================] - 29s 4ms/sample - loss: 0.9436 - acc: 0.6669 - val_loss: 1.4543 - val_acc: 0.5410\n",
      "Epoch 14/50\n",
      "8000/8000 [==============================] - 29s 4ms/sample - loss: 0.9160 - acc: 0.6730 - val_loss: 1.4351 - val_acc: 0.5445\n",
      "Epoch 15/50\n",
      "8000/8000 [==============================] - 30s 4ms/sample - loss: 0.8851 - acc: 0.6845 - val_loss: 1.4211 - val_acc: 0.5375\n",
      "Epoch 16/50\n",
      "8000/8000 [==============================] - 29s 4ms/sample - loss: 0.8474 - acc: 0.7032 - val_loss: 1.3913 - val_acc: 0.5430\n",
      "Epoch 17/50\n",
      "8000/8000 [==============================] - 28s 4ms/sample - loss: 0.8292 - acc: 0.7071 - val_loss: 1.4521 - val_acc: 0.5490\n",
      "Epoch 18/50\n",
      "8000/8000 [==============================] - 28s 4ms/sample - loss: 0.7946 - acc: 0.7165 - val_loss: 1.4632 - val_acc: 0.5380\n",
      "Epoch 19/50\n",
      "8000/8000 [==============================] - 27s 3ms/sample - loss: 0.7538 - acc: 0.7290 - val_loss: 1.4255 - val_acc: 0.5385\n",
      "Epoch 20/50\n",
      "8000/8000 [==============================] - 28s 4ms/sample - loss: 0.7431 - acc: 0.7394 - val_loss: 1.7075 - val_acc: 0.5455\n",
      "Epoch 21/50\n",
      "8000/8000 [==============================] - 28s 4ms/sample - loss: 0.7439 - acc: 0.7427 - val_loss: 1.5629 - val_acc: 0.5475\n",
      "Epoch 22/50\n",
      "8000/8000 [==============================] - 29s 4ms/sample - loss: 0.7168 - acc: 0.7499 - val_loss: 1.6091 - val_acc: 0.5655\n",
      "Epoch 23/50\n",
      "8000/8000 [==============================] - 28s 4ms/sample - loss: 0.7089 - acc: 0.7508 - val_loss: 1.5275 - val_acc: 0.5420\n",
      "Epoch 24/50\n",
      "8000/8000 [==============================] - 29s 4ms/sample - loss: 0.6956 - acc: 0.7589 - val_loss: 1.7754 - val_acc: 0.5510\n",
      "Epoch 25/50\n",
      "8000/8000 [==============================] - 29s 4ms/sample - loss: 0.6736 - acc: 0.7682 - val_loss: 1.7385 - val_acc: 0.5470\n",
      "Epoch 26/50\n",
      "8000/8000 [==============================] - 29s 4ms/sample - loss: 0.6695 - acc: 0.7673 - val_loss: 1.6696 - val_acc: 0.5580\n",
      "Epoch 27/50\n",
      "8000/8000 [==============================] - 29s 4ms/sample - loss: 0.6437 - acc: 0.7822 - val_loss: 1.5408 - val_acc: 0.5590\n",
      "Epoch 28/50\n",
      "8000/8000 [==============================] - 29s 4ms/sample - loss: 0.6429 - acc: 0.7786 - val_loss: 1.5392 - val_acc: 0.5385\n",
      "Epoch 29/50\n",
      "8000/8000 [==============================] - 29s 4ms/sample - loss: 0.6348 - acc: 0.7825 - val_loss: 1.7121 - val_acc: 0.5545\n",
      "Epoch 30/50\n",
      "8000/8000 [==============================] - 29s 4ms/sample - loss: 0.6357 - acc: 0.7804 - val_loss: 1.5504 - val_acc: 0.5400\n",
      "Epoch 31/50\n",
      "8000/8000 [==============================] - 30s 4ms/sample - loss: 0.6304 - acc: 0.7868 - val_loss: 1.6976 - val_acc: 0.5680\n",
      "Epoch 32/50\n",
      "8000/8000 [==============================] - 28s 4ms/sample - loss: 0.6251 - acc: 0.7881 - val_loss: 1.7839 - val_acc: 0.5530\n",
      "Epoch 33/50\n",
      "8000/8000 [==============================] - 28s 4ms/sample - loss: 0.6225 - acc: 0.7965 - val_loss: 1.7066 - val_acc: 0.5485\n",
      "Epoch 34/50\n",
      "8000/8000 [==============================] - 29s 4ms/sample - loss: 0.6122 - acc: 0.7925 - val_loss: 1.7836 - val_acc: 0.5405\n",
      "Epoch 35/50\n",
      "8000/8000 [==============================] - 29s 4ms/sample - loss: 0.6238 - acc: 0.7969 - val_loss: 1.8398 - val_acc: 0.5445\n",
      "Epoch 36/50\n",
      "8000/8000 [==============================] - 28s 4ms/sample - loss: 0.6290 - acc: 0.7959 - val_loss: 1.9232 - val_acc: 0.5440\n",
      "Epoch 37/50\n",
      "8000/8000 [==============================] - 29s 4ms/sample - loss: 0.6457 - acc: 0.7921 - val_loss: 1.7860 - val_acc: 0.5445\n",
      "Epoch 38/50\n",
      "8000/8000 [==============================] - 29s 4ms/sample - loss: 0.6491 - acc: 0.7847 - val_loss: 1.9171 - val_acc: 0.5380\n",
      "Epoch 39/50\n",
      "8000/8000 [==============================] - 29s 4ms/sample - loss: 0.6551 - acc: 0.7824 - val_loss: 1.9696 - val_acc: 0.5370\n",
      "Epoch 40/50\n",
      "8000/8000 [==============================] - 29s 4ms/sample - loss: 0.6797 - acc: 0.7849 - val_loss: 1.7279 - val_acc: 0.5400\n",
      "Epoch 41/50\n",
      "8000/8000 [==============================] - 29s 4ms/sample - loss: 0.6496 - acc: 0.7920 - val_loss: 1.9100 - val_acc: 0.5300\n",
      "Epoch 42/50\n",
      "8000/8000 [==============================] - 29s 4ms/sample - loss: 0.6823 - acc: 0.7879 - val_loss: 1.4638 - val_acc: 0.5280\n",
      "Epoch 43/50\n",
      "8000/8000 [==============================] - 28s 4ms/sample - loss: 0.6791 - acc: 0.7881 - val_loss: 2.0526 - val_acc: 0.5600\n",
      "Epoch 44/50\n",
      "8000/8000 [==============================] - 29s 4ms/sample - loss: 0.6873 - acc: 0.7814 - val_loss: 1.5874 - val_acc: 0.5345\n",
      "Epoch 45/50\n",
      "8000/8000 [==============================] - 28s 4ms/sample - loss: 0.7083 - acc: 0.7805 - val_loss: 1.5837 - val_acc: 0.5200\n",
      "Epoch 46/50\n",
      "8000/8000 [==============================] - 29s 4ms/sample - loss: 0.7216 - acc: 0.7735 - val_loss: 1.5575 - val_acc: 0.5050\n",
      "Epoch 47/50\n",
      "8000/8000 [==============================] - 30s 4ms/sample - loss: 0.7405 - acc: 0.7738 - val_loss: 1.7654 - val_acc: 0.5460\n",
      "Epoch 48/50\n",
      "8000/8000 [==============================] - 29s 4ms/sample - loss: 0.7007 - acc: 0.7781 - val_loss: 1.5466 - val_acc: 0.5085\n",
      "Epoch 49/50\n",
      "8000/8000 [==============================] - 29s 4ms/sample - loss: 0.7095 - acc: 0.7807 - val_loss: 1.9083 - val_acc: 0.5365\n",
      "Epoch 50/50\n",
      "8000/8000 [==============================] - 29s 4ms/sample - loss: 0.7446 - acc: 0.7678 - val_loss: 1.9176 - val_acc: 0.5170\n"
     ]
    },
    {
     "data": {
      "text/plain": [
       "<tensorflow.python.keras.callbacks.History at 0x157b03efa58>"
      ]
     },
     "execution_count": 12,
     "metadata": {},
     "output_type": "execute_result"
    }
   ],
   "source": [
    "model.fit(x_train, y_train,\n",
    "              batch_size=batch_size,\n",
    "              epochs=epochs,\n",
    "              validation_data=(x_test, y_test),\n",
    "              shuffle=False)"
   ]
  },
  {
   "cell_type": "code",
   "execution_count": 13,
   "metadata": {},
   "outputs": [
    {
     "name": "stdout",
     "output_type": "stream",
     "text": [
      "2000/2000 [==============================] - 3s 2ms/sample - loss: 1.9176 - acc: 0.5170\n",
      "Test loss: 1.9176317539215089\n",
      "Test accuracy: 0.517\n"
     ]
    }
   ],
   "source": [
    "# Score trained model.\n",
    "scores = model.evaluate(x_test, y_test, verbose=1)\n",
    "print('Test loss:', scores[0])\n",
    "print('Test accuracy:', scores[1])"
   ]
  },
  {
   "cell_type": "code",
   "execution_count": null,
   "metadata": {},
   "outputs": [],
   "source": []
  }
 ],
 "metadata": {
  "kernelspec": {
   "display_name": "Python 3",
   "language": "python",
   "name": "python3"
  },
  "language_info": {
   "codemirror_mode": {
    "name": "ipython",
    "version": 3
   },
   "file_extension": ".py",
   "mimetype": "text/x-python",
   "name": "python",
   "nbconvert_exporter": "python",
   "pygments_lexer": "ipython3",
   "version": "3.7.1"
  }
 },
 "nbformat": 4,
 "nbformat_minor": 2
}
